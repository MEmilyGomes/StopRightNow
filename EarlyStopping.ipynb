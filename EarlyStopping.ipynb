{
 "cells": [
  {
   "cell_type": "markdown",
   "metadata": {},
   "source": [
    "<img src=\"https://pages.cnpem.br/workshopbioimagens/wp-content/uploads/sites/166/2023/06/logo-ilum-2048x382.png\" alt=\"Descrição da imagem\" style=\"width: 1000px; height: auto; \">\n",
    "\n",
    "\n",
    "<div style=\" padding: 10px; font-size: 38px; text-align: center;\">\n",
    "<strong> Stop right now, thank you very much 🤚💃:</strong> \n",
    "<div style=\" padding: 10px; font-size: 33.2px; text-align: center;\">\n",
    "<strong>Implementação da  estratégia de Parada Antecipada</strong> \n",
    "\n",
    "<div style=\" padding: 10px; font-size: 17px; text-align: center;\">\n",
    "<strong>Autores:</strong> Lorena Ribeiro Nascimento & Maria Emily Nayla Gomes da Silva\n",
    "<div style=\" padding: 10px; font-size: 17px; text-align: center;\">\n",
    "<strong>Professor:</strong> Daniel R. Cassar"
   ]
  },
  {
   "cell_type": "markdown",
   "metadata": {},
   "source": [
    "<div style=\"background-color: lightblue; font-size: 18px; padding: 10px;\">\n",
    "<div style=\"text-align: justify\"><strong>Objetivo:</strong> Implemente uma estratégia de Parada Antecipada (<em>Early Stopping</em>) no processo de treino da rede neural feita em Python puro ou no processo de treino da rede neural feita em <em>PyTorch</em></div>"
   ]
  },
  {
   "cell_type": "markdown",
   "metadata": {},
   "source": [
    "## 📝 **Introdução**  \n",
    "\n",
    "<p align = 'justify'> \n",
    "Nesse Notebook implementaremos a técnica de Parada Antecipada (Early Stopping) no treinamento de uma rede neural implementada em PyTorch. O uso da parada antecipada consiste em separar parte dos dados para validação, além de treino e teste, e avaliar o desempenho dela ao longo das épocas de treinamento. Essa avaliação é utilizada para buscar encontrar um momento em que o desempenho atinge uma estabilidade, analisada por valores de delta mínimo e paciência. O primeiro monitora se o modelo está melhorando ou se mantendo estável pelo valor de variação que está tendo entre as perdas de diferentes épocas, já o segundo é a quantidade de vezes que vai esperar, quando essa variação mínima for atingida, para parar, caso volte a variar mais. A partir desses fatores busca encontrar um ponto de estabilidade e interrompe o treinamento.</p>\n",
    "\n",
    " <p align = 'justify'> \n",
    "Essa é uma técnica em Reforço de Gradiente que permite encontrar um número de iterações mais próximo do ideal para generalizar os dados sem overfittar neles. Desse modo, reduzindo a quantidade épocas necessárias, consequentemente diminuindo também o custo computacional, e o overfitting.</p> \n",
    "\n",
    "<p align = 'justify'> \n",
    "Além disso, para a construção dessa rede será utilizado uma estrutura de CNN (Rede Neural Convolucional) para o Dataset MNIST que possui imagens de números manuscritos, e é um banco de dados amplamente utilizado para construções e testes de redes convolucionais. Para a impementação da rede baseou-se nas referências 2 e 3 deste Notebook.</p>"
   ]
  },
  {
   "cell_type": "markdown",
   "metadata": {},
   "source": [
    "## 📚 **Importação das Bibliotecas e Dataset** "
   ]
  },
  {
   "cell_type": "code",
   "execution_count": 1,
   "metadata": {},
   "outputs": [],
   "source": [
    "#Importando a biblioteca torch para treinar a CNN\n",
    "import torch\n",
    "import torchvision\n",
    "from torchvision import datasets, transforms\n",
    "from torch.utils.data import random_split, DataLoader\n",
    "import torch.nn as nn\n",
    "import torch.nn.functional as F\n",
    "import torch.optim as optim\n",
    "\n",
    "#Para gerar o gráfico com os dados do dataset MNIST\n",
    "import matplotlib.pyplot as plt\n",
    "\n",
    "#Para criar a pasta \"results\", as quais guardam os resoultados de loss de treino e validação\n",
    "import os\n",
    "\n",
    "import numpy as np"
   ]
  },
  {
   "cell_type": "markdown",
   "metadata": {},
   "source": [
    "## 🏋🏻‍♀️ **Treinamendo a CNN com Parada Antecipada**  "
   ]
  },
  {
   "cell_type": "markdown",
   "metadata": {},
   "source": [
    "### 🎲 *Separando os dados em treino, validação e teste*\n",
    "\n",
    "A primeira etapa para treinar nosso modelo foi definir algumas variáveis. Definimos o número de épocas que gostaríamos de treinar o modelo, assim como o tamanho de lote de treino e teste, ou seja, quantos dados há em cada um de seus respectivos lotes. Dos dados totais de treino, definimos que gostaríamos de $80\\%$ para treino e  $20\\%$ para validação. A taxa de aprendizado foi de  $0.01$ e, para a descida do gradiente, definimos um momento de $0.5$. "
   ]
  },
  {
   "cell_type": "code",
   "execution_count": 2,
   "metadata": {},
   "outputs": [],
   "source": [
    "NUM_EPOCAS = 25\n",
    "TAMANHO_LOTE_TREINO = 64\n",
    "TAMANHO_LOTE_TESTE = 1000\n",
    "TAMANHO_TESTE = 0.8\n",
    "TAMANHO_VALIDACAO = 0.2\n",
    "TAXA_APRENDIZADO = 0.01\n",
    "INTERVALO_LOG = 10\n",
    "MOMENTO = 0.5\n",
    "\n",
    "SEMENTE = 1420"
   ]
  },
  {
   "cell_type": "code",
   "execution_count": 3,
   "metadata": {},
   "outputs": [],
   "source": [
    "transform = transforms.ToTensor()\n",
    "dataset_MNIST = datasets.MNIST(root='data', train=True, download=True, transform=transform)\n",
    "\n",
    "TAMANHO_TREINO = int(0.8 * len(dataset_MNIST))\n",
    "TAMANHO_VALIDACAO = len(dataset_MNIST) - TAMANHO_TREINO\n",
    "dados_treino, dados_validacao = random_split( dataset_MNIST, [TAMANHO_TREINO, TAMANHO_VALIDACAO])\n",
    "\n",
    "treino_loader = DataLoader(dados_treino, batch_size= TAMANHO_LOTE_TREINO, shuffle=True)\n",
    "validacao_loader = DataLoader(dados_validacao, batch_size=TAMANHO_LOTE_TREINO, shuffle=False)\n",
    "\n",
    "dados_teste = datasets.MNIST(root='data', train=False, download=True, transform=transform)\n",
    "teste_loader = DataLoader(dados_teste, batch_size=TAMANHO_LOTE_TESTE, shuffle=False)\n",
    "\n",
    "\n",
    "QUANTIDADE_LOTES = len(treino_loader)"
   ]
  },
  {
   "cell_type": "markdown",
   "metadata": {},
   "source": [
    "### 🌆 *Arquitetura do modelo*\n"
   ]
  },
  {
   "cell_type": "markdown",
   "metadata": {},
   "source": [
    "Para a arquitetura da CNN, estabelecemos duas camadas convolucionais, aplicando a função de ativação ReLu - zera os gradientes negativos - e duas camadas de pooling - redução de dimensionalidade - entre elas. Além disso, foi utilizada duas camada totalmente conectadas com funções lineares, e para a parada antecipada os valores de delta mínimo e paciência, sendo **0,0001**  e **3**, respectivamente. A escolha do delta se deu pelo conhecimento prévio do modelo convolucional com MNIST, em que se conhecia a existência de variações pequenas."
   ]
  },
  {
   "cell_type": "code",
   "execution_count": 4,
   "metadata": {},
   "outputs": [],
   "source": [
    "class Rede(nn.Module):\n",
    "    def __init__(self):\n",
    "        super(Rede, self).__init__()\n",
    "        self.conv1 = nn.Conv2d(1, 10, 5)\n",
    "        self.conv2 = nn.Conv2d(10, 20, 5)\n",
    "        self.fc1 = nn.Linear(320, 50)\n",
    "        self.fc2 = nn.Linear(50, 10)\n",
    "\n",
    "    def forward(self, x):\n",
    "        x = F.relu(F.max_pool2d(self.conv1(x), 2))\n",
    "        x = F.relu(F.max_pool2d(self.conv2(x), 2))\n",
    "        x = x.view(-1, 320)\n",
    "        x = F.relu(self.fc1(x))\n",
    "        x = self.fc2(x)\n",
    "        return x"
   ]
  },
  {
   "cell_type": "code",
   "execution_count": 5,
   "metadata": {},
   "outputs": [],
   "source": [
    "DELTA_MINIMO = 0.0001 \n",
    "PACIENCIA = 3"
   ]
  },
  {
   "cell_type": "markdown",
   "metadata": {},
   "source": [
    "### 🛑 *Definindo a função da Parada Antecipada*"
   ]
  },
  {
   "cell_type": "markdown",
   "metadata": {},
   "source": [
    "Então, foi definida uma classe para aplicar a técnica de parada antecipada, nessa é comparada os valores das perdas das validações e caso sejam menores que a menor perda encontrada são comparadas a partir do delta mínimo e da paciência."
   ]
  },
  {
   "cell_type": "code",
   "execution_count": 6,
   "metadata": {},
   "outputs": [],
   "source": [
    "class EarlyStopper:\n",
    "    def __init__(self, PACIENCIA, DELTA_MINIMO):\n",
    "        self.patience = PACIENCIA\n",
    "        self.min_delta = DELTA_MINIMO\n",
    "        self.counter = 0\n",
    "        self.min_validation_loss = float('inf')\n",
    "\n",
    "    def early_stop(self, perda_validacao):\n",
    "        if perda_validacao < self.min_validation_loss:\n",
    "            self.min_validation_loss = perda_validacao\n",
    "            self.counter = 0\n",
    "        elif perda_validacao >= (self.min_validation_loss + self.min_delta): \n",
    "            self.counter += 1\n",
    "            if self.counter >= self.patience:\n",
    "                return True\n",
    "        return False"
   ]
  },
  {
   "cell_type": "markdown",
   "metadata": {},
   "source": [
    "### 👩‍💻 **Treinando a rede com Parada Antecipada 🤚**"
   ]
  },
  {
   "cell_type": "markdown",
   "metadata": {},
   "source": [
    "Para realizar o treinamento da rede foi, por fim, instanciada a rede, definido seu otimizador (Descida do Gradiente Estocastico) e seu critério de perda (CrossEntropy)."
   ]
  },
  {
   "cell_type": "code",
   "execution_count": 7,
   "metadata": {},
   "outputs": [],
   "source": [
    "rede_parada = Rede()\n",
    "otimizador = optim.SGD(rede_parada.parameters(), lr=TAXA_APRENDIZADO, momentum=MOMENTO)   #Descida do Gradiente Estocastico\n",
    "criterio_perda = nn.CrossEntropyLoss()\n",
    "\n",
    "perdas_treino_parada = []\n",
    "perdas_teste_parada = []\n",
    "perdas_validacao_parada = []"
   ]
  },
  {
   "cell_type": "markdown",
   "metadata": {},
   "source": [
    "Definindo a função de treino:"
   ]
  },
  {
   "cell_type": "code",
   "execution_count": 8,
   "metadata": {},
   "outputs": [],
   "source": [
    "os.makedirs('results_comparadaantecipada', exist_ok=True)\n",
    "\n",
    "def treino(epoca):   \n",
    "    running_loss = 0.\n",
    "    ultima_perda = 0.\n",
    "\n",
    "    for lote_idx, dado in enumerate(treino_loader):\n",
    "\n",
    "        inputs, targets = dado\n",
    "\n",
    "        otimizador.zero_grad()\n",
    "\n",
    "        output = rede_parada(inputs)\n",
    "\n",
    "        loss = criterio_perda(output, targets)\n",
    "\n",
    "        loss.backward()\n",
    "\n",
    "        otimizador.step()\n",
    "\n",
    "        running_loss += loss.item()\n",
    "\n",
    "    print('Train Epoch: {} [{}/{} ({:.0f}%)]\\tLoss: {:.6f}'.format(\n",
    "        epoca, lote_idx * len(dado), len(treino_loader.dataset),\n",
    "        100. * lote_idx / len(treino_loader), loss.item()))\n",
    "\n",
    "    if lote_idx % QUANTIDADE_LOTES == QUANTIDADE_LOTES - 1:      \n",
    "        ultima_perda = running_loss / len(treino_loader.dataset) # loss per batch\n",
    "        print('  lote {} loss: {}'.format(lote_idx + 1, ultima_perda))\n",
    "        running_loss = 0.\n",
    "    \n",
    "    return ultima_perda"
   ]
  },
  {
   "cell_type": "markdown",
   "metadata": {},
   "source": [
    "Executando o treinamento da rede pelo número de épocas determinado implementando a parada antecipada."
   ]
  },
  {
   "cell_type": "code",
   "execution_count": 9,
   "metadata": {},
   "outputs": [
    {
     "name": "stdout",
     "output_type": "stream",
     "text": [
      "Train Epoch: 1 [1498/48000 (100%)]\tLoss: 0.314171\n",
      "  lote 750 loss: 0.017827209513013562\n",
      "Train Epoch: 2 [1498/48000 (100%)]\tLoss: 0.108515\n",
      "  lote 750 loss: 0.0033830881516138714\n",
      "Train Epoch: 3 [1498/48000 (100%)]\tLoss: 0.139172\n",
      "  lote 750 loss: 0.002224190976470709\n",
      "Train Epoch: 4 [1498/48000 (100%)]\tLoss: 0.127563\n",
      "  lote 750 loss: 0.0017421618746011518\n",
      "Train Epoch: 5 [1498/48000 (100%)]\tLoss: 0.067721\n",
      "  lote 750 loss: 0.0014891152829610897\n",
      "Train Epoch: 6 [1498/48000 (100%)]\tLoss: 0.067909\n",
      "  lote 750 loss: 0.0012938691909075714\n",
      "Train Epoch: 7 [1498/48000 (100%)]\tLoss: 0.048348\n",
      "  lote 750 loss: 0.0011674620215198956\n",
      "Train Epoch: 8 [1498/48000 (100%)]\tLoss: 0.112655\n",
      "  lote 750 loss: 0.0010572379408598257\n",
      "Train Epoch: 9 [1498/48000 (100%)]\tLoss: 0.021766\n",
      "  lote 750 loss: 0.0009769420950372781\n",
      "Train Epoch: 10 [1498/48000 (100%)]\tLoss: 0.040383\n",
      "  lote 750 loss: 0.0008931688353040954\n",
      "Train Epoch: 11 [1498/48000 (100%)]\tLoss: 0.021641\n",
      "  lote 750 loss: 0.0008449292642180808\n",
      "Train Epoch: 12 [1498/48000 (100%)]\tLoss: 0.179618\n",
      "  lote 750 loss: 0.0007886077804190185\n",
      "Train Epoch: 13 [1498/48000 (100%)]\tLoss: 0.001659\n",
      "  lote 750 loss: 0.0007524385826157716\n",
      "Train Epoch: 14 [1498/48000 (100%)]\tLoss: 0.019164\n",
      "  lote 750 loss: 0.0006987845530044676\n",
      "Train Epoch: 15 [1498/48000 (100%)]\tLoss: 0.041613\n",
      "  lote 750 loss: 0.0006652801865178238\n",
      "Train Epoch: 16 [1498/48000 (100%)]\tLoss: 0.171267\n",
      "  lote 750 loss: 0.0006375340568641453\n",
      "Train Epoch: 17 [1498/48000 (100%)]\tLoss: 0.048059\n",
      "  lote 750 loss: 0.0006028886452356043\n",
      "Train Epoch: 18 [1498/48000 (100%)]\tLoss: 0.021863\n",
      "  lote 750 loss: 0.0005590761876834828\n"
     ]
    }
   ],
   "source": [
    "parada_antecipada = EarlyStopper(PACIENCIA, DELTA_MINIMO)\n",
    "\n",
    "for epoca in range(1, NUM_EPOCAS + 1):\n",
    "    rede_parada.train(True)\n",
    "    perdas_treino_parada.append(treino(epoca))\n",
    "\n",
    "    rede_parada.eval()\n",
    "    perda_validacao_parada = 0\n",
    "    correto = 0\n",
    "    total = 0\n",
    "\n",
    "    with torch.no_grad():\n",
    "        for dado, target in validacao_loader:\n",
    "            output = rede_parada(dado)\n",
    "            perda_lote = criterio_perda(output, target).item()\n",
    "            perda_validacao_parada += perda_lote * dado.size(0)  # Desfaz a média para cada lote\n",
    "            pred = output.data.max(1, keepdim=True)[1]\n",
    "            correto += pred.eq(target.data.view_as(pred)).sum().item()\n",
    "            total += dado.size(0)\n",
    "\n",
    "    perda_validacao_parada /= total\n",
    "    perdas_validacao_parada.append(np.round(perda_validacao_parada, 3))\n",
    "    if parada_antecipada.early_stop(perda_validacao_parada):             \n",
    "        break"
   ]
  },
  {
   "cell_type": "markdown",
   "metadata": {},
   "source": [
    "### 📈*Gráfico da curva de aprendizado com Parada Antecipada*"
   ]
  },
  {
   "cell_type": "code",
   "execution_count": 10,
   "metadata": {},
   "outputs": [
    {
     "data": {
      "text/plain": [
       "<matplotlib.legend.Legend at 0x2666052fd70>"
      ]
     },
     "execution_count": 10,
     "metadata": {},
     "output_type": "execute_result"
    },
    {
     "data": {
      "image/png": "[encoded data removed]",
      "text/plain": [
       "<Figure size 640x480 with 1 Axes>"
      ]
     },
     "metadata": {},
     "output_type": "display_data"
    }
   ],
   "source": [
    "plt.plot(list(range(len(perdas_treino_parada))), perdas_treino_parada, label = \"Treino\")\n",
    "plt.plot(list(range(len(perdas_validacao_parada))), perdas_validacao_parada, label = \"Validação\")\n",
    "plt.legend()"
   ]
  },
  {
   "cell_type": "markdown",
   "metadata": {},
   "source": [
    "A rede foi treinada por 25 épocas, mas como observado pelo gráfico houve a parada antecipada na época 23, vale ressaltar também que é possível observar que as variações foram bem pequenas, dentre as duas primeiras casas decimais. Além disso a curva de treino atingiu um plato maior e antes do número de época da validação, em que a segunda variou mais que o primeiro, mas em intervalos pequenos."
   ]
  },
  {
   "cell_type": "markdown",
   "metadata": {},
   "source": [
    "### ✅ *Teste do modelo com Parada Antecipada*"
   ]
  },
  {
   "cell_type": "code",
   "execution_count": 11,
   "metadata": {},
   "outputs": [],
   "source": [
    "def teste():\n",
    "    rede_parada.eval()\n",
    "    perda_teste = 0\n",
    "    correto = 0\n",
    "    total = 0\n",
    "\n",
    "    with torch.no_grad():\n",
    "        for dado, target in teste_loader:\n",
    "            output = rede_parada(dado)\n",
    "            perda_lote = criterio_perda(output, target).item()\n",
    "            perda_teste += perda_lote * dado.size(0)  # Desfaz a média para cada lote\n",
    "            pred = output.data.max(1, keepdim=True)[1]\n",
    "            correto += pred.eq(target.data.view_as(pred)).sum().item()\n",
    "            total += dado.size(0)\n",
    "\n",
    "    perda_teste /= total\n",
    "    perdas_teste_parada.append(perda_teste)\n",
    "\n",
    "    print('\\nTest set: Avg. loss: {:.4f}, Accuracy: {}/{} ({:.0f}%)\\n'.format(\n",
    "        perda_teste, correto, total, 100. * correto / total))\n",
    "    "
   ]
  },
  {
   "cell_type": "code",
   "execution_count": 12,
   "metadata": {},
   "outputs": [
    {
     "name": "stdout",
     "output_type": "stream",
     "text": [
      "\n",
      "Test set: Avg. loss: 0.0464, Accuracy: 9846/10000 (98%)\n",
      "\n"
     ]
    }
   ],
   "source": [
    "teste()"
   ]
  },
  {
   "cell_type": "markdown",
   "metadata": {},
   "source": [
    "Observa-se uma acurácia de 99% o que é um ótimo resultado, e atende também a expectativa, visto que foi utilizado um Dataset que tem diversos estudos relacionados que mostram bons treinamentos com valores de acurácia semelhantes ao encontrado."
   ]
  },
  {
   "cell_type": "markdown",
   "metadata": {},
   "source": [
    "## 😁 **Conclusão** "
   ]
  },
  {
   "cell_type": "markdown",
   "metadata": {},
   "source": [
    "<p align = 'justify'>\n",
    "Portanto, foi possível aplicar a técnica de parada antecipada, obtendo uma parada duas épocas antes do delimitado(25), e obtendo uma acurácia de 99% do modelo. Além disso, conclui-se que essa técnica é um método eficiente para generalização do modelo, evitando overfitting, por meio da comparação das perdas dos dados de validação. Além disso, observou-se que a definição do delta mínimo pode variar dependendo da rede, visto que, como no nosso problema a variação era muito pequeno, sendo assim foi necessário um valor beixo. Todavia, outros problemas poderiam funcionar melhor com um delta mínimo maior, assim, é sempre importante analisar e compreender o comportaento da sua rede. Por fim, a parada antecipada é uma técnica de implementação simples que funciona bem para evitar o sobreajuste dos modelos, principalmente em modelos de aprendizado profundo. </p>"
   ]
  },
  {
   "cell_type": "markdown",
   "metadata": {},
   "source": [
    "## 🗃️  **Referências!** \n",
    "\n",
    " [1] Team, Keras. Keras Documentation: EarlyStopping. https://keras.io/api/callbacks/early_stopping/. Acesso em 29 de maio de 2025.\n",
    " \n",
    " [2] Koehler, G. (2020). MNIST Handwritten Digit Recognition in PyTorch. Nextjournal. Disponível em: https://nextjournal.com/gkoehler/pytorch-mnist\n",
    "\n",
    " [3] PASZKE, Adam et al. *Training a classifier*. PyTorch Tutorials, 2024. Disponível em: <https://docs.pytorch.org/tutorials/beginner/introyt/trainingyt.html>. \n",
    "\n",
    " [4] PUGA, Juan. Early stopping in PyTorch. Stack Overflow, 04 abr. 2022. Disponível em: https://stackoverflow.com/questions/71998978/early-stopping-in-pytorch.\n"
   ]
  }
 ],
 "metadata": {
  "kernelspec": {
   "display_name": "Python 3 (ipykernel)",
   "language": "python",
   "name": "python3"
  },
  "language_info": {
   "codemirror_mode": {
    "name": "ipython",
    "version": 3
   },
   "file_extension": ".py",
   "mimetype": "text/x-python",
   "name": "python",
   "nbconvert_exporter": "python",
   "pygments_lexer": "ipython3",
   "version": "3.12.3"
  }
 },
 "nbformat": 4,
 "nbformat_minor": 4
}
